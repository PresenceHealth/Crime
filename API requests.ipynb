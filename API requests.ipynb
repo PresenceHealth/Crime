{
 "cells": [
  {
   "cell_type": "code",
   "execution_count": 1,
   "metadata": {
    "collapsed": true
   },
   "outputs": [],
   "source": [
    "# Code borrowed from https://github.com/anisfeld/MachineLearning/blob/master/Diagnostic/ML%20HW0-1.ipynb\n",
    "import numpy as np\n",
    "import pandas as pd\n",
    "import requests\n",
    "from urllib.parse import quote_plus, urlencode"
   ]
  },
  {
   "cell_type": "code",
   "execution_count": 219,
   "metadata": {
    "collapsed": false
   },
   "outputs": [],
   "source": [
    "BASE_URL = \"https://data.cityofchicago.org/resource/6zsd-86xi.json?$query=\"\n",
    "\n",
    "\n",
    "#https://data.cityofchicago.org/resource/6zsd-86xi.json?$?iucr=110\n",
    "        \n",
    "def encode_query(dict, base_url=BASE_URL):\n",
    "    '''\n",
    "    Take dictionary with SQL statements parts and combine them into a web-safe string\n",
    "    \n",
    "    e.g.\n",
    "    dict = {\"SELECT\": [\"community_area\",\n",
    "                    \"latitude\",\n",
    "                    \"longitude\",\n",
    "                    \"date\"], \n",
    "            \"WHERE\": \"iucr in ('2024','2025')\",\n",
    "            \"LIMIT\": \"10\"}\n",
    "            \n",
    "    returns: 'https://data.cityofchicago.org/resource/6zsd-86xi.json?$query=SELECT+community_area%2C+\n",
    "              latitude%2C+longitude%2C+date+WHERE+iucr+in+%28%272024%27%2C%272025%27%29+LIMIT+10+'\n",
    "    '''\n",
    "    encoded = \"\"\n",
    "    for key, val in dict.items():\n",
    "        if isinstance(val, list):\n",
    "            try:\n",
    "                val = \", \".join(val)\n",
    "            except:\n",
    "                return \"Lists must contain strings only\"\n",
    "        try:\n",
    "            encoded += key + \" \" + val + \" \"\n",
    "        except:\n",
    "            return \"Dictionary values must be strings or list of strings\"\n",
    "    return base_url + quote_plus(encoded)\n",
    "\n",
    "\n",
    "def call_socrata_api(query_dict, base_url=BASE_URL, endpoint=None, verbose=False):\n",
    "    '''\n",
    "    Inputs: endpoint (string) (e.g.: \"yama-9had.json?\", optional if base_url doesn't include one) \n",
    "            query_dict (dictionary) (SoQL statements divided into constituent parts)\n",
    "    '''\n",
    "    \n",
    "    # Ensure all data is downloaded in one API call (requires endpoint version 2.1)\n",
    "    count_query = base_url + \"SELECT%20count(*)\"\n",
    "    r = requests.get(count_query)\n",
    "    query_dict[\"LIMIT\"] = r.json()[0][\"count\"]\n",
    "    \n",
    "    query_url = encode_query(query_dict, base_url)\n",
    "\n",
    "    if verbose:\n",
    "        print(\"query url: \", query_url)\n",
    "    \n",
    "    return pd.read_json(query_url)\n",
    "\n",
    "\n",
    "def build_query_dict(code_data, base_query, code_col=\"IUCR\", soql_name=\"iucr\", group_col=\"Type\"):\n",
    "    '''\n",
    "    Put information about crime codes into usable format.\n",
    "    \n",
    "    code_data (pd.Dataframe) with two columns\n",
    "    \n",
    "    return: dict of form:\n",
    "    {'Aggravated assault/battery': {'SELECT': ['id',\n",
    "                                               'date',\n",
    "                                               'iucr',\n",
    "                                               'latitude',\n",
    "                                               'longitude',\n",
    "                                               'ward',\n",
    "                                               'community_area',\n",
    "                                               'district'],\n",
    "                                    'WHERE': \"iucr in ('141A', '141B')\"},\n",
    "    ...}\n",
    "    '''\n",
    "    soql_dict = {}\n",
    "    types = code_data.groupby([group_col])\n",
    "    for key,val in types.groups.items():\n",
    "        soql_dict[key] = base_query.copy()\n",
    "        codes = chicago_codes(code_data.ix[val,code_col])\n",
    "        where = soql_name + \" in \"  + str(tuple(codes))\n",
    "        soql_dict[key]['WHERE'] = where\n",
    "    return soql_dict\n",
    "\n",
    "\n",
    "def chicago_codes(col):\n",
    "    return [str(x) if len(str(x)) == 4 else '0' + str(x) for x in col]\n",
    "\n",
    "\n",
    "def make_crime_data_frame(query_dict, verbose=True):\n",
    "    '''\n",
    "    Idiosyncratic command that collects crime data and cleans up pandas dataframe \n",
    "    '''\n",
    "    df = pd.DataFrame()\n",
    "    for key, query in query_dict.items():\n",
    "        temp_df = call_socrata_api(query, verbose=True)\n",
    "        temp_df[key] = 1\n",
    "        df = pd.concat([df,temp_df], axis=0)\n",
    "    return df\n"
   ]
  },
  {
   "cell_type": "code",
   "execution_count": 246,
   "metadata": {
    "collapsed": false
   },
   "outputs": [
    {
     "name": "stderr",
     "output_type": "stream",
     "text": [
      "/Users/arianisfeld/anaconda2/envs/py36/lib/python3.6/site-packages/ipykernel/__main__.py:34: SettingWithCopyWarning: \n",
      "A value is trying to be set on a copy of a slice from a DataFrame.\n",
      "Try using .loc[row_indexer,col_indexer] = value instead\n",
      "\n",
      "See the caveats in the documentation: http://pandas.pydata.org/pandas-docs/stable/indexing.html#indexing-view-versus-copy\n"
     ]
    }
   ],
   "source": [
    "# Import IUCR codes with names.\n",
    "code_data = pd.read_excel('Crime definitions.xlsx')\n",
    "code_data.fillna(0, inplace=True)\n",
    "crime_types = list(query_dict.keys())\n",
    "\n",
    "Violent = ['Aggravated assault/battery', 'Criminal sexual assault', 'Homicide', 'Robbery']\n",
    "Property = ['Arson','Burglary', 'Motor vehicle theft','Larceny']\n",
    "\n",
    "\n",
    "# Build mapping from name to IUCR code\n",
    "base_query = {\"SELECT\": [\"id\",\n",
    "                        \"date\",\n",
    "                        \"iucr\",\n",
    "                        \"latitude\",\n",
    "                        \"longitude\",\n",
    "                        \"ward\",\n",
    "                        \"community_area\",\n",
    "                        \"district\"]}\n",
    "\n",
    "query_dict = build_query_dict(code_data, base_query)\n",
    "\n",
    "# pull crime data from Socrata\n",
    "#crime_data = make_crime_data_frame(query_dict)\n",
    "\n",
    "#crime_data=crime_data.reset_index(drop=True)\n",
    "crime_data.ix[:,crime_types] = crime_data.ix[:,crime_types ].fillna(0)\n",
    "\n",
    "crime_data[\"Violent\"] = crime_data[Violent].sum(1)\n",
    "crime_data[\"Property\"] = crime_data[Property].sum(1)\n",
    "crime_data[\"Index\"] = crime_data[[\"Violent\",\"Property\"]].sum(1)\n",
    "\n",
    "\n",
    "public = code_data[[\"Public\"]]\n",
    "public[\"IUCR\"] = pd.DataFrame(chicago_codes(code_data[\"IUCR\"]))\n",
    "\n",
    "crime_data = pd.merge(crime_data,public, left_on=\"iucr\", right_on=\"IUCR\")\n",
    "crime_data.drop([\"IUCR\"], axis=1, inplace=True)"
   ]
  },
  {
   "cell_type": "code",
   "execution_count": 252,
   "metadata": {
    "collapsed": false
   },
   "outputs": [],
   "source": [
    "crime_data.to_csv(\"Chicago_Crimes.csv\")"
   ]
  },
  {
   "cell_type": "code",
   "execution_count": null,
   "metadata": {
    "collapsed": true
   },
   "outputs": [],
   "source": [
    "def get_com_areas(df, right_on=\"area_numbe\"):\n",
    "    '''\n",
    "    downloads community areas information from data portal and appends to data frame\n",
    "    '''\n",
    "    try:\n",
    "        community_areas=pd.read_json(\"https://data.cityofchicago.org/resource/igwz-8jzy.json\")\n",
    "    except:\n",
    "        return \"download failed\"\n",
    "    \n",
    "    com_areas = community_areas.ix[:,[\"area_numbe\",\"community\"]]\n",
    "    df = pd.merge(df, com_areas, left_on=\"community_area\", right_on=right_on)\n",
    "    return df\n",
    "\n",
    "g = code_dict.groupby(['Type'])\n",
    "gr = g.groups['Aggravated assault/battery']\n",
    "str(tuple([str(x) for x in code_dict.ix[gr,\"IUCR\"]]))\n",
    "g.groups"
   ]
  }
 ],
 "metadata": {
  "kernelspec": {
   "display_name": "Python 3",
   "language": "python",
   "name": "python3"
  },
  "language_info": {
   "codemirror_mode": {
    "name": "ipython",
    "version": 3
   },
   "file_extension": ".py",
   "mimetype": "text/x-python",
   "name": "python",
   "nbconvert_exporter": "python",
   "pygments_lexer": "ipython3",
   "version": "3.6.1"
  }
 },
 "nbformat": 4,
 "nbformat_minor": 2
}
